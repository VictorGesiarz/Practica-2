{
 "cells": [
  {
   "cell_type": "markdown",
   "metadata": {},
   "source": [
    "# Competència\n",
    "- Valoració de la similitud\n",
    "- Informació desconeguda (valors que falten)\n",
    "- Discretització\n",
    "- Cerca infructuosa / Pèrdua de casos en estructures\n",
    "jeràrquiques\n",
    "# Eficiència en Temps\n",
    "- Degradació de les estructures jeràrquiques\n",
    "- Overhead d'aprenentatge\n",
    "# Eficiència en Espai\n",
    "- Quan és necessari aprendre un cas nou?\n",
    "- Hem d'oblidar alguns casos?"
   ]
  },
  {
   "cell_type": "code",
   "execution_count": null,
   "metadata": {},
   "outputs": [],
   "source": []
  }
 ],
 "metadata": {
  "language_info": {
   "name": "python"
  }
 },
 "nbformat": 4,
 "nbformat_minor": 2
}
